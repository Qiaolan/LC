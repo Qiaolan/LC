{
 "cells": [
  {
   "cell_type": "markdown",
   "metadata": {},
   "source": [
    "Say you have an array for which the ith element is the price of a given stock on day i.\n",
    "\n",
    "If you were only permitted to complete at most one transaction (i.e., buy one and sell one share of the stock), design an algorithm to find the maximum profit.\n",
    "\n",
    "Note that you cannot sell a stock before you buy one."
   ]
  },
  {
   "cell_type": "code",
   "execution_count": 4,
   "metadata": {},
   "outputs": [],
   "source": [
    "def maxProfit(self, prices):\n",
    "    pass"
   ]
  },
  {
   "cell_type": "code",
   "execution_count": 5,
   "metadata": {},
   "outputs": [],
   "source": [
    "prices = [7,1,5,3,6,4]"
   ]
  },
  {
   "cell_type": "markdown",
   "metadata": {},
   "source": [
    "Brutal Force"
   ]
  },
  {
   "cell_type": "code",
   "execution_count": 13,
   "metadata": {},
   "outputs": [
    {
     "name": "stdout",
     "output_type": "stream",
     "text": [
      "1 2\n",
      "1 3\n",
      "1 4\n",
      "1 5\n",
      "3 4\n",
      "3 5\n",
      "5\n"
     ]
    }
   ],
   "source": [
    "p=0\n",
    "for i in range(len(prices)):\n",
    "    for j in range(i+1,len(prices)):\n",
    "        if prices[j] < prices[i]:\n",
    "            break\n",
    "        else:\n",
    "            print(i,j)\n",
    "            p_tem = prices[j] - prices[i]\n",
    "            if p_tem > p:\n",
    "                p = p_tem\n",
    "print(p)"
   ]
  },
  {
   "cell_type": "markdown",
   "metadata": {},
   "source": [
    "Smart Way"
   ]
  },
  {
   "cell_type": "code",
   "execution_count": 17,
   "metadata": {},
   "outputs": [
    {
     "name": "stdout",
     "output_type": "stream",
     "text": [
      "5\n"
     ]
    }
   ],
   "source": [
    "p_min=prices[0]\n",
    "profit_max=0\n",
    "for i in range(len(prices)):\n",
    "    if prices[i] < p_min:\n",
    "        p_min = prices[i]\n",
    "    profit = prices[i] - p_min\n",
    "    if profit > profit_max:\n",
    "        profit_max = profit\n",
    "print(profit_max)"
   ]
  },
  {
   "cell_type": "markdown",
   "metadata": {},
   "source": [
    "submission"
   ]
  },
  {
   "cell_type": "code",
   "execution_count": 19,
   "metadata": {},
   "outputs": [],
   "source": [
    "class Solution:\n",
    "    def maxProfit(self, prices):\n",
    "        if len(prices) == 0:\n",
    "            return 0\n",
    "        p_min=prices[0]\n",
    "        profit_max=0\n",
    "        for i in range(len(prices)):\n",
    "            if prices[i] < p_min:\n",
    "                p_min = prices[i]\n",
    "            profit = prices[i] - p_min\n",
    "            if profit > profit_max:\n",
    "                profit_max = profit\n",
    "        return profit_max"
   ]
  },
  {
   "cell_type": "code",
   "execution_count": null,
   "metadata": {},
   "outputs": [],
   "source": []
  }
 ],
 "metadata": {
  "kernelspec": {
   "display_name": "conda_notebook",
   "language": "python",
   "name": "notebook"
  },
  "language_info": {
   "codemirror_mode": {
    "name": "ipython",
    "version": 3
   },
   "file_extension": ".py",
   "mimetype": "text/x-python",
   "name": "python",
   "nbconvert_exporter": "python",
   "pygments_lexer": "ipython3",
   "version": "3.7.6"
  }
 },
 "nbformat": 4,
 "nbformat_minor": 4
}
