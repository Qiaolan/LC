{
 "cells": [
  {
   "cell_type": "markdown",
   "metadata": {},
   "source": [
    "Given a string, determine if it is a palindrome, considering only alphanumeric characters and ignoring cases.\n",
    "\n",
    "#### Note: For the purpose of this problem, we define empty string as valid palindrome."
   ]
  },
  {
   "cell_type": "code",
   "execution_count": 8,
   "metadata": {},
   "outputs": [],
   "source": [
    "s = \"A man, a plan, a canal: Panama\""
   ]
  },
  {
   "cell_type": "code",
   "execution_count": 38,
   "metadata": {},
   "outputs": [
    {
     "data": {
      "text/plain": [
       "True"
      ]
     },
     "execution_count": 38,
     "metadata": {},
     "output_type": "execute_result"
    }
   ],
   "source": [
    "import math\n",
    "if s == \" \":\n",
    "    True\n",
    "if s == \"\":\n",
    "    False\n",
    "\n",
    "pa = \"\"\n",
    "for i in s:\n",
    "    if i.isalpha():\n",
    "        pa = \"\".join([pa,i])\n",
    "pa = pa.lower()\n",
    "\n",
    "l = math.ceil(len(pa)/2)\n",
    "s1 = pa[0:l]\n",
    "s2 = pa[-l:]\n",
    "s2 == s1[::-1]"
   ]
  },
  {
   "cell_type": "code",
   "execution_count": 25,
   "metadata": {},
   "outputs": [
    {
     "data": {
      "text/plain": [
       "'canalpanama'"
      ]
     },
     "execution_count": 25,
     "metadata": {},
     "output_type": "execute_result"
    }
   ],
   "source": [
    "s2"
   ]
  },
  {
   "cell_type": "code",
   "execution_count": 37,
   "metadata": {},
   "outputs": [
    {
     "data": {
      "text/plain": [
       "'canalpanama'"
      ]
     },
     "execution_count": 37,
     "metadata": {},
     "output_type": "execute_result"
    }
   ],
   "source": [
    "s1[::-1]"
   ]
  },
  {
   "cell_type": "markdown",
   "metadata": {},
   "source": [
    "### Final Submission"
   ]
  },
  {
   "cell_type": "code",
   "execution_count": null,
   "metadata": {},
   "outputs": [],
   "source": [
    "class Solution:\n",
    "    def isPalindrome(self, s: str) -> bool:\n",
    "        import math\n",
    "        if s == \" \":\n",
    "            return True\n",
    "        if s == \"\":\n",
    "            return True\n",
    "\n",
    "        pa = \"\"\n",
    "        for i in s:\n",
    "            if i.isalpha() or i.isnumeric():\n",
    "                pa = \"\".join([pa,i])\n",
    "        pa = pa.lower()\n",
    "\n",
    "        l = math.ceil(len(pa)/2)\n",
    "        s1 = pa[0:l]\n",
    "        s2 = pa[-l:]\n",
    "        return s2 == s1[::-1]"
   ]
  }
 ],
 "metadata": {
  "kernelspec": {
   "display_name": "conda_notebook",
   "language": "python",
   "name": "notebook"
  },
  "language_info": {
   "codemirror_mode": {
    "name": "ipython",
    "version": 3
   },
   "file_extension": ".py",
   "mimetype": "text/x-python",
   "name": "python",
   "nbconvert_exporter": "python",
   "pygments_lexer": "ipython3",
   "version": "3.7.6"
  }
 },
 "nbformat": 4,
 "nbformat_minor": 4
}
