{
 "cells": [
  {
   "cell_type": "markdown",
   "metadata": {},
   "source": [
    "Say you have an array for which the $i^{th}$ element is the price of a given stock on day i.\n",
    "\n",
    "Design an algorithm to find the maximum profit. You may complete as many transactions as you like (i.e., buy one and sell one share of the stock multiple times).\n",
    "\n",
    "Note: You may not engage in multiple transactions at the same time (i.e., you must sell the stock before you buy again)."
   ]
  },
  {
   "cell_type": "code",
   "execution_count": 2,
   "metadata": {},
   "outputs": [],
   "source": [
    "prices = [7,1,5,3,6,4]"
   ]
  },
  {
   "cell_type": "code",
   "execution_count": 18,
   "metadata": {},
   "outputs": [
    {
     "data": {
      "text/plain": [
       "4"
      ]
     },
     "execution_count": 18,
     "metadata": {},
     "output_type": "execute_result"
    }
   ],
   "source": [
    "profit=0\n",
    "buy=0\n",
    "sell=0\n",
    "for i in range(1,len(prices)):\n",
    "    if i < (len(prices)-1):\n",
    "        if prices[i] > prices[i-1]:\n",
    "            if buy == 0:\n",
    "                buy = prices[i-1]\n",
    "            else:\n",
    "                continue\n",
    "        if prices[i] > prices[i+1]:\n",
    "            sell = prices[i]\n",
    "            profit = profit + sell - buy\n",
    "        if prices[i] < prices[i+1]:\n",
    "            continue\n",
    "if prices[-1] > prices[-2]:\n",
    "    if sell == 0:\n",
    "        profit = profit + prices[-1] - buy\n",
    "    else:\n",
    "        profit = profit + prices[-1] - sell\n",
    "\n",
    "\n",
    "\n",
    "    \n",
    "\n",
    "    "
   ]
  },
  {
   "cell_type": "code",
   "execution_count": 10,
   "metadata": {},
   "outputs": [],
   "source": [
    "prices = [7,1,5,3,6,4]"
   ]
  },
  {
   "cell_type": "code",
   "execution_count": 11,
   "metadata": {},
   "outputs": [
    {
     "name": "stdout",
     "output_type": "stream",
     "text": [
      "0\n",
      "1\n",
      "2\n",
      "3\n",
      "4\n"
     ]
    },
    {
     "data": {
      "text/plain": [
       "7"
      ]
     },
     "execution_count": 11,
     "metadata": {},
     "output_type": "execute_result"
    }
   ],
   "source": [
    "profit=0\n",
    "for i in range(0,len(prices)-1):\n",
    "    print(i)\n",
    "    if prices[i] < prices[i+1]:\n",
    "        profit = profit + prices[i+1] - prices[i]\n",
    "profit"
   ]
  },
  {
   "cell_type": "markdown",
   "metadata": {},
   "source": [
    "### Final Submission\n"
   ]
  },
  {
   "cell_type": "code",
   "execution_count": null,
   "metadata": {},
   "outputs": [],
   "source": [
    "class Solution:\n",
    "    def maxProfit(self, prices: List[int]) -> int:\n",
    "        profit=0\n",
    "        for i in range(0,len(prices)-1):\n",
    "            if prices[i] < prices[i+1]:\n",
    "                profit += prices[i+1] - prices[i]\n",
    "        return profit"
   ]
  }
 ],
 "metadata": {
  "kernelspec": {
   "display_name": "conda_notebook",
   "language": "python",
   "name": "notebook"
  },
  "language_info": {
   "codemirror_mode": {
    "name": "ipython",
    "version": 3
   },
   "file_extension": ".py",
   "mimetype": "text/x-python",
   "name": "python",
   "nbconvert_exporter": "python",
   "pygments_lexer": "ipython3",
   "version": "3.7.6"
  }
 },
 "nbformat": 4,
 "nbformat_minor": 4
}
